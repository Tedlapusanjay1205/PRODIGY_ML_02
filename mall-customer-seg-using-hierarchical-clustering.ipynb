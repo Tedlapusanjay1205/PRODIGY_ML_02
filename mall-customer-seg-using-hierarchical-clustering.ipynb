{
 "cells": [
  {
   "cell_type": "code",
   "execution_count": 1,
   "id": "6675ca45",
   "metadata": {
    "_cell_guid": "b1076dfc-b9ad-4769-8c92-a6c4dae69d19",
    "_uuid": "8f2839f25d086af736a60e9eeb907d3b93b6e0e5",
    "execution": {
     "iopub.execute_input": "2024-11-19T06:55:18.280734Z",
     "iopub.status.busy": "2024-11-19T06:55:18.280293Z",
     "iopub.status.idle": "2024-11-19T06:55:19.146227Z",
     "shell.execute_reply": "2024-11-19T06:55:19.145150Z"
    },
    "papermill": {
     "duration": 0.876978,
     "end_time": "2024-11-19T06:55:19.150065",
     "exception": false,
     "start_time": "2024-11-19T06:55:18.273087",
     "status": "completed"
    },
    "tags": []
   },
   "outputs": [
    {
     "name": "stdout",
     "output_type": "stream",
     "text": [
      "/kaggle/input/customer-segmentation-tutorial-in-python/Mall_Customers.csv\n"
     ]
    }
   ],
   "source": [
    "# This Python 3 environment comes with many helpful analytics libraries installed\n",
    "# It is defined by the kaggle/python Docker image: https://github.com/kaggle/docker-python\n",
    "# For example, here's several helpful packages to load\n",
    "\n",
    "import numpy as np # linear algebra\n",
    "import pandas as pd # data processing, CSV file I/O (e.g. pd.read_csv)\n",
    "import matplotlib.pyplot as plt\n",
    "# Input data files are available in the read-only \"../input/\" directory\n",
    "# For example, running this (by clicking run or pressing Shift+Enter) will list all files under the input directory\n",
    "\n",
    "import os\n",
    "for dirname, _, filenames in os.walk('/kaggle/input'):\n",
    "    for filename in filenames:\n",
    "        print(os.path.join(dirname, filename))\n",
    "\n",
    "# You can write up to 20GB to the current directory (/kaggle/working/) that gets preserved as output when you create a version using \"Save & Run All\" \n",
    "# You can also write temporary files to /kaggle/temp/, but they won't be saved outside of the current session"
   ]
  },
  {
   "cell_type": "markdown",
   "id": "cf60dfa1",
   "metadata": {
    "papermill": {
     "duration": 0.00292,
     "end_time": "2024-11-19T06:55:19.156080",
     "exception": false,
     "start_time": "2024-11-19T06:55:19.153160",
     "status": "completed"
    },
    "tags": []
   },
   "source": [
    "# Importing Dataset"
   ]
  },
  {
   "cell_type": "code",
   "execution_count": 2,
   "id": "f2a1107d",
   "metadata": {
    "execution": {
     "iopub.execute_input": "2024-11-19T06:55:19.163605Z",
     "iopub.status.busy": "2024-11-19T06:55:19.163077Z",
     "iopub.status.idle": "2024-11-19T06:55:19.194306Z",
     "shell.execute_reply": "2024-11-19T06:55:19.193246Z"
    },
    "papermill": {
     "duration": 0.037231,
     "end_time": "2024-11-19T06:55:19.196399",
     "exception": false,
     "start_time": "2024-11-19T06:55:19.159168",
     "status": "completed"
    },
    "tags": []
   },
   "outputs": [
    {
     "data": {
      "text/html": [
       "<div>\n",
       "<style scoped>\n",
       "    .dataframe tbody tr th:only-of-type {\n",
       "        vertical-align: middle;\n",
       "    }\n",
       "\n",
       "    .dataframe tbody tr th {\n",
       "        vertical-align: top;\n",
       "    }\n",
       "\n",
       "    .dataframe thead th {\n",
       "        text-align: right;\n",
       "    }\n",
       "</style>\n",
       "<table border=\"1\" class=\"dataframe\">\n",
       "  <thead>\n",
       "    <tr style=\"text-align: right;\">\n",
       "      <th></th>\n",
       "      <th>CustomerID</th>\n",
       "      <th>Gender</th>\n",
       "      <th>Age</th>\n",
       "      <th>Annual Income (k$)</th>\n",
       "      <th>Spending Score (1-100)</th>\n",
       "    </tr>\n",
       "  </thead>\n",
       "  <tbody>\n",
       "    <tr>\n",
       "      <th>0</th>\n",
       "      <td>1</td>\n",
       "      <td>Male</td>\n",
       "      <td>19</td>\n",
       "      <td>15</td>\n",
       "      <td>39</td>\n",
       "    </tr>\n",
       "    <tr>\n",
       "      <th>1</th>\n",
       "      <td>2</td>\n",
       "      <td>Male</td>\n",
       "      <td>21</td>\n",
       "      <td>15</td>\n",
       "      <td>81</td>\n",
       "    </tr>\n",
       "    <tr>\n",
       "      <th>2</th>\n",
       "      <td>3</td>\n",
       "      <td>Female</td>\n",
       "      <td>20</td>\n",
       "      <td>16</td>\n",
       "      <td>6</td>\n",
       "    </tr>\n",
       "    <tr>\n",
       "      <th>3</th>\n",
       "      <td>4</td>\n",
       "      <td>Female</td>\n",
       "      <td>23</td>\n",
       "      <td>16</td>\n",
       "      <td>77</td>\n",
       "    </tr>\n",
       "    <tr>\n",
       "      <th>4</th>\n",
       "      <td>5</td>\n",
       "      <td>Female</td>\n",
       "      <td>31</td>\n",
       "      <td>17</td>\n",
       "      <td>40</td>\n",
       "    </tr>\n",
       "  </tbody>\n",
       "</table>\n",
       "</div>"
      ],
      "text/plain": [
       "   CustomerID  Gender  Age  Annual Income (k$)  Spending Score (1-100)\n",
       "0           1    Male   19                  15                      39\n",
       "1           2    Male   21                  15                      81\n",
       "2           3  Female   20                  16                       6\n",
       "3           4  Female   23                  16                      77\n",
       "4           5  Female   31                  17                      40"
      ]
     },
     "execution_count": 2,
     "metadata": {},
     "output_type": "execute_result"
    }
   ],
   "source": [
    "df = pd.read_csv('/kaggle/input/customer-segmentation-tutorial-in-python/Mall_Customers.csv')\n",
    "df.head()"
   ]
  },
  {
   "cell_type": "code",
   "execution_count": 3,
   "id": "f1ffe96e",
   "metadata": {
    "execution": {
     "iopub.execute_input": "2024-11-19T06:55:19.204442Z",
     "iopub.status.busy": "2024-11-19T06:55:19.203745Z",
     "iopub.status.idle": "2024-11-19T06:55:19.217786Z",
     "shell.execute_reply": "2024-11-19T06:55:19.216661Z"
    },
    "papermill": {
     "duration": 0.020288,
     "end_time": "2024-11-19T06:55:19.219925",
     "exception": false,
     "start_time": "2024-11-19T06:55:19.199637",
     "status": "completed"
    },
    "tags": []
   },
   "outputs": [
    {
     "data": {
      "text/html": [
       "<div>\n",
       "<style scoped>\n",
       "    .dataframe tbody tr th:only-of-type {\n",
       "        vertical-align: middle;\n",
       "    }\n",
       "\n",
       "    .dataframe tbody tr th {\n",
       "        vertical-align: top;\n",
       "    }\n",
       "\n",
       "    .dataframe thead th {\n",
       "        text-align: right;\n",
       "    }\n",
       "</style>\n",
       "<table border=\"1\" class=\"dataframe\">\n",
       "  <thead>\n",
       "    <tr style=\"text-align: right;\">\n",
       "      <th></th>\n",
       "      <th>Gender</th>\n",
       "      <th>Age</th>\n",
       "      <th>Annual Income (k$)</th>\n",
       "      <th>Spending Score (1-100)</th>\n",
       "    </tr>\n",
       "  </thead>\n",
       "  <tbody>\n",
       "    <tr>\n",
       "      <th>0</th>\n",
       "      <td>Male</td>\n",
       "      <td>19</td>\n",
       "      <td>15</td>\n",
       "      <td>39</td>\n",
       "    </tr>\n",
       "    <tr>\n",
       "      <th>1</th>\n",
       "      <td>Male</td>\n",
       "      <td>21</td>\n",
       "      <td>15</td>\n",
       "      <td>81</td>\n",
       "    </tr>\n",
       "    <tr>\n",
       "      <th>2</th>\n",
       "      <td>Female</td>\n",
       "      <td>20</td>\n",
       "      <td>16</td>\n",
       "      <td>6</td>\n",
       "    </tr>\n",
       "    <tr>\n",
       "      <th>3</th>\n",
       "      <td>Female</td>\n",
       "      <td>23</td>\n",
       "      <td>16</td>\n",
       "      <td>77</td>\n",
       "    </tr>\n",
       "    <tr>\n",
       "      <th>4</th>\n",
       "      <td>Female</td>\n",
       "      <td>31</td>\n",
       "      <td>17</td>\n",
       "      <td>40</td>\n",
       "    </tr>\n",
       "  </tbody>\n",
       "</table>\n",
       "</div>"
      ],
      "text/plain": [
       "   Gender  Age  Annual Income (k$)  Spending Score (1-100)\n",
       "0    Male   19                  15                      39\n",
       "1    Male   21                  15                      81\n",
       "2  Female   20                  16                       6\n",
       "3  Female   23                  16                      77\n",
       "4  Female   31                  17                      40"
      ]
     },
     "execution_count": 3,
     "metadata": {},
     "output_type": "execute_result"
    }
   ],
   "source": [
    "x = df.iloc[:,1:]\n",
    "x.head() # Removing Id column"
   ]
  },
  {
   "cell_type": "markdown",
   "id": "097e852c",
   "metadata": {
    "papermill": {
     "duration": 0.002917,
     "end_time": "2024-11-19T06:55:19.226143",
     "exception": false,
     "start_time": "2024-11-19T06:55:19.223226",
     "status": "completed"
    },
    "tags": []
   },
   "source": [
    "# Encoding "
   ]
  },
  {
   "cell_type": "code",
   "execution_count": 4,
   "id": "4d985e9b",
   "metadata": {
    "execution": {
     "iopub.execute_input": "2024-11-19T06:55:19.233889Z",
     "iopub.status.busy": "2024-11-19T06:55:19.233501Z",
     "iopub.status.idle": "2024-11-19T06:55:20.472934Z",
     "shell.execute_reply": "2024-11-19T06:55:20.471822Z"
    },
    "papermill": {
     "duration": 1.246383,
     "end_time": "2024-11-19T06:55:20.475587",
     "exception": false,
     "start_time": "2024-11-19T06:55:19.229204",
     "status": "completed"
    },
    "tags": []
   },
   "outputs": [
    {
     "data": {
      "text/html": [
       "<div>\n",
       "<style scoped>\n",
       "    .dataframe tbody tr th:only-of-type {\n",
       "        vertical-align: middle;\n",
       "    }\n",
       "\n",
       "    .dataframe tbody tr th {\n",
       "        vertical-align: top;\n",
       "    }\n",
       "\n",
       "    .dataframe thead th {\n",
       "        text-align: right;\n",
       "    }\n",
       "</style>\n",
       "<table border=\"1\" class=\"dataframe\">\n",
       "  <thead>\n",
       "    <tr style=\"text-align: right;\">\n",
       "      <th></th>\n",
       "      <th>Gender</th>\n",
       "      <th>Age</th>\n",
       "      <th>Annual Income (k$)</th>\n",
       "      <th>Spending Score (1-100)</th>\n",
       "    </tr>\n",
       "  </thead>\n",
       "  <tbody>\n",
       "    <tr>\n",
       "      <th>0</th>\n",
       "      <td>1</td>\n",
       "      <td>19</td>\n",
       "      <td>15</td>\n",
       "      <td>39</td>\n",
       "    </tr>\n",
       "    <tr>\n",
       "      <th>1</th>\n",
       "      <td>1</td>\n",
       "      <td>21</td>\n",
       "      <td>15</td>\n",
       "      <td>81</td>\n",
       "    </tr>\n",
       "    <tr>\n",
       "      <th>2</th>\n",
       "      <td>0</td>\n",
       "      <td>20</td>\n",
       "      <td>16</td>\n",
       "      <td>6</td>\n",
       "    </tr>\n",
       "    <tr>\n",
       "      <th>3</th>\n",
       "      <td>0</td>\n",
       "      <td>23</td>\n",
       "      <td>16</td>\n",
       "      <td>77</td>\n",
       "    </tr>\n",
       "    <tr>\n",
       "      <th>4</th>\n",
       "      <td>0</td>\n",
       "      <td>31</td>\n",
       "      <td>17</td>\n",
       "      <td>40</td>\n",
       "    </tr>\n",
       "  </tbody>\n",
       "</table>\n",
       "</div>"
      ],
      "text/plain": [
       "   Gender  Age  Annual Income (k$)  Spending Score (1-100)\n",
       "0       1   19                  15                      39\n",
       "1       1   21                  15                      81\n",
       "2       0   20                  16                       6\n",
       "3       0   23                  16                      77\n",
       "4       0   31                  17                      40"
      ]
     },
     "execution_count": 4,
     "metadata": {},
     "output_type": "execute_result"
    }
   ],
   "source": [
    "from sklearn.preprocessing import LabelEncoder\n",
    "le = LabelEncoder()\n",
    "x['Gender'] = le.fit_transform(x['Gender'])\n",
    "x.head()"
   ]
  },
  {
   "cell_type": "markdown",
   "id": "0294b871",
   "metadata": {
    "papermill": {
     "duration": 0.003114,
     "end_time": "2024-11-19T06:55:20.482812",
     "exception": false,
     "start_time": "2024-11-19T06:55:20.479698",
     "status": "completed"
    },
    "tags": []
   },
   "source": [
    "# Finding Optimal Number Of Clusters using WCSS"
   ]
  },
  {
   "cell_type": "code",
   "execution_count": 5,
   "id": "4b6ab2e6",
   "metadata": {
    "execution": {
     "iopub.execute_input": "2024-11-19T06:55:20.491159Z",
     "iopub.status.busy": "2024-11-19T06:55:20.490625Z",
     "iopub.status.idle": "2024-11-19T06:55:22.511327Z",
     "shell.execute_reply": "2024-11-19T06:55:22.510192Z"
    },
    "papermill": {
     "duration": 2.027757,
     "end_time": "2024-11-19T06:55:22.513874",
     "exception": false,
     "start_time": "2024-11-19T06:55:20.486117",
     "status": "completed"
    },
    "tags": []
   },
   "outputs": [
    {
     "data": {
      "image/png": "[encoded data removed]",
      "text/plain": [
       "<Figure size 640x480 with 1 Axes>"
      ]
     },
     "metadata": {},
     "output_type": "display_data"
    }
   ],
   "source": [
    "import scipy.cluster.hierarchy as sch\n",
    "dendrogram = sch.dendrogram(sch.linkage(x, method = 'ward'))\n",
    "plt.title('Dendrogram')\n",
    "plt.xlabel('Customers')\n",
    "plt.ylabel('Euclidean distances')\n",
    "plt.show()"
   ]
  },
  {
   "cell_type": "code",
   "execution_count": 6,
   "id": "7018bf4e",
   "metadata": {
    "execution": {
     "iopub.execute_input": "2024-11-19T06:55:22.523796Z",
     "iopub.status.busy": "2024-11-19T06:55:22.523248Z",
     "iopub.status.idle": "2024-11-19T06:55:22.884777Z",
     "shell.execute_reply": "2024-11-19T06:55:22.883714Z"
    },
    "papermill": {
     "duration": 0.369294,
     "end_time": "2024-11-19T06:55:22.887250",
     "exception": false,
     "start_time": "2024-11-19T06:55:22.517956",
     "status": "completed"
    },
    "tags": []
   },
   "outputs": [],
   "source": [
    "from sklearn.cluster import AgglomerativeClustering\n",
    "hc = AgglomerativeClustering(n_clusters = 6, metric = 'euclidean', linkage = 'ward')\n",
    "y_hc = hc.fit_predict(x)"
   ]
  },
  {
   "cell_type": "markdown",
   "id": "955327fb",
   "metadata": {
    "papermill": {
     "duration": 0.003659,
     "end_time": "2024-11-19T06:55:22.895037",
     "exception": false,
     "start_time": "2024-11-19T06:55:22.891378",
     "status": "completed"
    },
    "tags": []
   },
   "source": [
    "# Checking the Purity of clusters using Silhouette Score"
   ]
  },
  {
   "cell_type": "code",
   "execution_count": 7,
   "id": "1777369a",
   "metadata": {
    "execution": {
     "iopub.execute_input": "2024-11-19T06:55:22.904374Z",
     "iopub.status.busy": "2024-11-19T06:55:22.903988Z",
     "iopub.status.idle": "2024-11-19T06:55:22.916393Z",
     "shell.execute_reply": "2024-11-19T06:55:22.915172Z"
    },
    "papermill": {
     "duration": 0.019873,
     "end_time": "2024-11-19T06:55:22.918726",
     "exception": false,
     "start_time": "2024-11-19T06:55:22.898853",
     "status": "completed"
    },
    "tags": []
   },
   "outputs": [
    {
     "name": "stdout",
     "output_type": "stream",
     "text": [
      "Silhouette Score: 44.2801 %\n"
     ]
    }
   ],
   "source": [
    "from sklearn.metrics import silhouette_score\n",
    "score = silhouette_score(x, y_hc)\n",
    "print(\"Silhouette Score:\", round(score*100,4),\"%\") # The Silhouette Score measures how well data points fit within their clusters. It compares the average distance to points in the same cluster (cohesion) with the average distance to points in the nearest cluster (separation). Values range from -1 (poor) to 1 (ideal clustering)."
   ]
  }
 ],
 "metadata": {
  "kaggle": {
   "accelerator": "none",
   "dataSources": [
    {
     "datasetId": 42674,
     "sourceId": 74935,
     "sourceType": "datasetVersion"
    }
   ],
   "dockerImageVersionId": 30786,
   "isGpuEnabled": false,
   "isInternetEnabled": true,
   "language": "python",
   "sourceType": "notebook"
  },
  "kernelspec": {
   "display_name": "Python 3",
   "language": "python",
   "name": "python3"
  },
  "language_info": {
   "codemirror_mode": {
    "name": "ipython",
    "version": 3
   },
   "file_extension": ".py",
   "mimetype": "text/x-python",
   "name": "python",
   "nbconvert_exporter": "python",
   "pygments_lexer": "ipython3",
   "version": "3.10.14"
  },
  "papermill": {
   "default_parameters": {},
   "duration": 7.895452,
   "end_time": "2024-11-19T06:55:23.543924",
   "environment_variables": {},
   "exception": null,
   "input_path": "__notebook__.ipynb",
   "output_path": "__notebook__.ipynb",
   "parameters": {},
   "start_time": "2024-11-19T06:55:15.648472",
   "version": "2.6.0"
  }
 },
 "nbformat": 4,
 "nbformat_minor": 5
}
